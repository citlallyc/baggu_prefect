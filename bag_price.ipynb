{
 "cells": [
  {
   "cell_type": "code",
   "execution_count": 2,
   "id": "b16fd0a4",
   "metadata": {},
   "outputs": [],
   "source": [
    "import requests\n",
    "import re\n",
    "from bs4 import BeautifulSoup"
   ]
  },
  {
   "cell_type": "code",
   "execution_count": 3,
   "id": "fe48a79f",
   "metadata": {},
   "outputs": [],
   "source": [
    "def find_baggu_price(url):\n",
    "    k = requests.get(url).text\n",
    "    soup = BeautifulSoup(k, 'html.parser')\n",
    "    price_string = soup.find('div', {\"class\":\"product-price\"}).text\n",
    "    price_string = price_string.replace(' ', '')\n",
    "    price = int(re.search('[0-9]+', price_string).group(0))\n",
    "    return price\n",
    "\n",
    "def compare_price(price, budget):\n",
    "    if price <= budget:\n",
    "        print(f\"Buy the bag, good deal!\")\n",
    "    else:\n",
    "        print(f\"Not worth, not worth\")\n",
    "\n",
    "def baggu_flow(url, budget):\n",
    "    price = find_baggu_price(url)\n",
    "    compare_price(price, budget)\n",
    "\n",
    "url = \"https://www.baggu.com/products/medium-nylon-crescent-bag-black\"\n",
    "budget = 45"
   ]
  }
 ],
 "metadata": {
  "kernelspec": {
   "display_name": "Python 3 (ipykernel)",
   "language": "python",
   "name": "python3"
  },
  "language_info": {
   "codemirror_mode": {
    "name": "ipython",
    "version": 3
   },
   "file_extension": ".py",
   "mimetype": "text/x-python",
   "name": "python",
   "nbconvert_exporter": "python",
   "pygments_lexer": "ipython3",
   "version": "3.11.5"
  }
 },
 "nbformat": 4,
 "nbformat_minor": 5
}
